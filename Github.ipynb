{
 "cells": [
  {
   "cell_type": "markdown",
   "metadata": {},
   "source": [
    "# Quick Tutorial to get Started on Github\n",
    "Github is a version control repository that can be used to share and collaborate software code.\n",
    "It consists of the language called \"Git\" & the online website called \"Github\"\n",
    "\n"
   ]
  },
  {
   "cell_type": "markdown",
   "metadata": {},
   "source": [
    "## Step 1: Install Git\n",
    "Install Git : https://git-scm.com/book/en/v2/Getting-Started-Installing-Git"
   ]
  },
  {
   "cell_type": "markdown",
   "metadata": {},
   "source": [
    "## Step 2: Configure Git\n",
    "\n",
    "**First time Github Setup**\n",
    "\n",
    "$ git config --global user.name \"John Doe\"\n",
    "\n",
    "$ git config --global user.email johndoe@example.com\n",
    "\n",
    "$ git config --global core.editor notepad-plus-plus \n",
    "\n",
    "**Check your Setup**\n",
    "\n",
    "$ git config --list "
   ]
  },
  {
   "cell_type": "markdown",
   "metadata": {},
   "source": [
    "[Jupyter Notebook Markdown Tutorial](https://www.youtube.com/watch?v=-F4WS8o-G2A)"
   ]
  },
  {
   "cell_type": "markdown",
   "metadata": {},
   "source": [
    "## Step 3: Sign up for a free account on Github\n",
    "[Githup Account Signup](https://github.com/join)\n"
   ]
  },
  {
   "cell_type": "markdown",
   "metadata": {},
   "source": [
    "## Step 4: Watch Github Tutorials\n",
    "0. [How to use the Terminal](https://mac.appstorm.net/how-to/utilities-how-to/how-to-use-terminal-the-basics/)\n",
    "1. [What is Github](https://www.youtube.com/watch?v=w3jLJU7DT5E&feature=youtu.be)\n",
    "2. [Github for Poets](https://www.youtube.com/watch?v=BCQHnlnPusY&feature=youtu.be)\n",
    "3. [Github for Bignners](https://product.hubspot.com/blog/git-and-github-tutorial-for-beginners)\n",
    "4. [Github for Springboard](https://www.youtube.com/watch?v=E4MkXGm0vbI&feature=youtu.be)\n",
    "5. [Github on Datacamp](https://www.datacamp.com/courses/introduction-to-git-for-data-science)\n",
    "6. [Learn&Practice Git](https://gitexercises.fracz.com/)\n",
    "7. [Github for Datascience](https://vimeo.com/236836133)\n"
   ]
  },
  {
   "cell_type": "markdown",
   "metadata": {},
   "source": [
    "## Step 5: Connect Git and Github Repo\n",
    "**Make Directory and Change Directory**\n",
    "\n",
    "> $ mkdir myprojects\n",
    "\n",
    "> $ cd myprojects\n",
    "\n",
    "**Git init, touch and status: Create new Repo and stage a newfile**\n",
    "> $ git clone https://github.com/vsholkar/sbds-prework.git\n",
    "\n",
    "> $ git status\n",
    "\n",
    "> $ git add newfile.txt\n",
    "\n",
    "**Git commit : Close file editing and add comment**\n",
    "\n",
    "> $ git status\n",
    "\n",
    "> $ git commit -m \"First Commit comment\"\n",
    "\n",
    "**Git pull and Git push : Pull master repo and then Push local repo to master on Github**\n",
    "\n",
    "> $ git pull origin master\n",
    "\n",
    "> $ git push -f origin master\n",
    "\n",
    "Note: The -f is force push.\n",
    "Note: You will need to input login and password for Github\n"
   ]
  },
  {
   "cell_type": "code",
   "execution_count": null,
   "metadata": {},
   "outputs": [],
   "source": []
  },
  {
   "cell_type": "code",
   "execution_count": null,
   "metadata": {},
   "outputs": [],
   "source": []
  },
  {
   "cell_type": "code",
   "execution_count": null,
   "metadata": {},
   "outputs": [],
   "source": []
  }
 ],
 "metadata": {
  "kernelspec": {
   "display_name": "Python 3",
   "language": "python",
   "name": "python3"
  },
  "language_info": {
   "codemirror_mode": {
    "name": "ipython",
    "version": 3
   },
   "file_extension": ".py",
   "mimetype": "text/x-python",
   "name": "python",
   "nbconvert_exporter": "python",
   "pygments_lexer": "ipython3",
   "version": "3.7.1"
  }
 },
 "nbformat": 4,
 "nbformat_minor": 2
}
