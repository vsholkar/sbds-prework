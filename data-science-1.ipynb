{
 "cells": [
  {
   "cell_type": "code",
   "execution_count": 3,
   "metadata": {},
   "outputs": [
    {
     "name": "stdout",
     "output_type": "stream",
     "text": [
      "['Ximena', 'Aliza', 'Ayden', 'Calvin'] ['Rowen', 'Sandeep']\n"
     ]
    }
   ],
   "source": [
    "# Create a list containing the names: baby_names\n",
    "baby_names = ['Ximena','Aliza','Ayden','Calvin']\n",
    "ext_list = ['Rowen','Sandeep']\n",
    "print(baby_names, ext_list)"
   ]
  },
  {
   "cell_type": "markdown",
   "metadata": {},
   "source": [
    "## List have \n",
    "#> [ ] Square brackets,\n",
    "#> Each item is separated by comma\n",
    "#> Single quote for text"
   ]
  },
  {
   "cell_type": "code",
   "execution_count": 4,
   "metadata": {},
   "outputs": [
    {
     "name": "stdout",
     "output_type": "stream",
     "text": [
      "['Ximena', 'Aliza', 'Ayden', 'Calvin', 'Rowen', 'Sandeep']\n"
     ]
    }
   ],
   "source": [
    "baby_names.extend(['Rowen','Sandeep'])\n",
    "print(baby_names)"
   ]
  },
  {
   "cell_type": "code",
   "execution_count": 5,
   "metadata": {},
   "outputs": [
    {
     "name": "stdout",
     "output_type": "stream",
     "text": [
      "3\n"
     ]
    }
   ],
   "source": [
    "print(baby_names.index('Calvin'))\n",
    "#Note All indexes start at 0 \n",
    "##--> Ximena is at 0 \n",
    "##--> Aliza is at 1\n",
    "##--> Ayden is at 2"
   ]
  },
  {
   "cell_type": "code",
   "execution_count": null,
   "metadata": {},
   "outputs": [],
   "source": []
  }
 ],
 "metadata": {
  "kernelspec": {
   "display_name": "Python 3",
   "language": "python",
   "name": "python3"
  },
  "language_info": {
   "codemirror_mode": {
    "name": "ipython",
    "version": 3
   },
   "file_extension": ".py",
   "mimetype": "text/x-python",
   "name": "python",
   "nbconvert_exporter": "python",
   "pygments_lexer": "ipython3",
   "version": "3.7.1"
  }
 },
 "nbformat": 4,
 "nbformat_minor": 2
}
