{
 "cells": [
  {
   "cell_type": "markdown",
   "metadata": {},
   "source": [
    "# Manipulating lists for fun and profit\n",
    "#### Some common methods & Funtions used with Lists\n",
    "\n",
    "*.append()* - adding individual data elements to a list - **Note:** .append() method only take one item at a time   \n",
    "*.extend()* - combine a list with another array type (list, set, tuple)  \n",
    "*.index()*  - method to find the position of an item in a list. You can then  with the  \n",
    "*.pop()*    - remove the item at a particular index\n",
    "\n",
    "Note: \n",
    "* To create a List use list() function or use [*Empty*] Square brackets.\n",
    "* To sort a List use sorted() funtion\n"
   ]
  },
  {
   "cell_type": "code",
   "execution_count": 16,
   "metadata": {},
   "outputs": [
    {
     "name": "stdout",
     "output_type": "stream",
     "text": [
      "1. ['Ximena', 'Aliza', 'Ayden', 'Calvin']\n",
      "2. ['Ximena', 'Aliza', 'Ayden', 'Calvin', 'Rowen', 'Sandeep']\n",
      "3. Aliza is at index: 1\n",
      "4. ['Ximena', 'Ayden', 'Calvin', 'Rowen', 'Sandeep'] <-- Note 'Aliza' is gone\n",
      "5. ['Ximena', 'Ayden', 'Calvin', 'Rowen', 'Sandeep', 'Vidhyasagar'] <--- Vidhyasagar is appended to the list\n",
      "6. ['Ayden', 'Calvin', 'Rowen', 'Sandeep', 'Vidhyasagar', 'Ximena'] <--- List is now Sorted\n",
      "7. [] [] <--- new_names_1, new_names_2 are new blank lists\n"
     ]
    }
   ],
   "source": [
    "## Excercise:\n",
    "\n",
    "#1. Create a list called baby_names with the names 'Ximena', 'Aliza', 'Ayden', and 'Calvin'.\n",
    "baby_names = ['Ximena','Aliza','Ayden','Calvin']\n",
    "print('1.', baby_names)\n",
    "\n",
    "#2. Use the .extend() method on baby_names to add 'Rowen' and 'Sandeep' and print the list.\n",
    "# Note here - in this method the argument is a list so include the SQUARE BRACKETS \n",
    "baby_names.extend(['Rowen','Sandeep'])\n",
    "print('2.',baby_names)\n",
    "    \n",
    "#3. Use the .index() method to find the position of 'Aliza' in the list. Save the result as position.\n",
    "position = baby_names.index('Aliza')\n",
    "print('3.','Aliza is at index:',position)\n",
    "\n",
    "#4. Use the .pop() method with position to remove 'Aliza' from the list.\n",
    "baby_names.pop(position)\n",
    "print('4.',baby_names, \"<-- Note 'Aliza' is gone\")\n",
    "\n",
    "#5. Use the .append() method to add items to the list\n",
    "baby_names.append('Vidhyasagar')\n",
    "print('5.',baby_names, '<--- Vidhyasagar is appended to the list')\n",
    "\n",
    "#6 Sort the List\n",
    "sorted_baby_names = sorted(baby_names)\n",
    "print('6.', sorted_baby_names, '<--- List is now Sorted')\n",
    "\n",
    "#6 Create new empty List\n",
    "new_names_1 = []\n",
    "new_names_2 = list()\n",
    "print('7.',new_names_1, new_names_2,'<--- new_names_1, new_names_2 are new blank lists', )"
   ]
  },
  {
   "cell_type": "markdown",
   "metadata": {},
   "source": [
    "# Looping over lists\n",
    "\n",
    "You can use a for loop to iterate through all the items in a list. You can take that a step further with the sorted() function which will sort the data in a list from lowest to highest in the case of numbers and alphabetical order if the list contains strings.\n",
    "\n",
    "The sorted() function returns a new list and does not affect the list you passed into the function. You can learn more about sorted() in the Python documentation.\n",
    "\n",
    "A list of lists, records has been pre-loaded. If you explore it in the IPython Shell, you'll see that each entry is a list of this form:\n",
    "\n",
    "['2011', 'FEMALE', 'HISPANIC', 'GERALDINE', '13', '75']\n",
    "\n",
    "The name of the baby ('GERALDINE') is the fourth entry of this list. Your job in this exercise is to loop over this list of lists and append the names of each baby to a new list called baby_names."
   ]
  },
  {
   "cell_type": "code",
   "execution_count": 14,
   "metadata": {},
   "outputs": [
    {
     "name": "stdout",
     "output_type": "stream",
     "text": [
      "List baby_names[] is empty --> []\n"
     ]
    }
   ],
   "source": [
    "## Excercise\n",
    "\n",
    "#1. Create an empty list called baby_names.\n",
    "baby_names = list()\n",
    "print(\"1. List baby_names[] is empty -->\", baby_names)\n",
    "    \n",
    "#2. Use a for loop to iterate over each row of records:\n",
    "for i in \n",
    "#3. Append the name in records to baby_names. The name is stored in the fourth element of row.\n",
    "#4. Print each name in baby_names in alphabetical order. To do this:\n",
    "#5. Use the sorted() function as part of a for loop to iterate over the sorted names, printing each one.\n"
   ]
  },
  {
   "cell_type": "markdown",
   "metadata": {},
   "source": [
    "## Sets\n",
    "\n",
    "Sets are containers that contain an **unordered** collection of **unique** and **immutable** objects\n",
    "\n",
    "#### Some common methods & Funtions used with Sets\n",
    "\n",
    "* **.union()**        - Combine two sets together  e.g. *baby_names_2011.union(baby_names_2014)*\n",
    "* **.intersection()** - Find the common objects in two sets e.g. *baby_names_2011.intersection(baby_names_2014)*\n",
    "* **.difference()**   - Find the objects that are unique to TARGET set e.g. *baby_names_2011.difference(baby_names_2014)*\n",
    "* **.pop()**          - Removes random objects from the set\n",
    "* *.\n",
    "\n",
    "\n",
    "* **len(*Set_name*)**   - Returns count of the items in a Set e.g. *len(all_names)*\n",
    "* **set()**             - Creates a blank set e.g. *baby_names_2011 = set()*"
   ]
  },
  {
   "cell_type": "code",
   "execution_count": null,
   "metadata": {},
   "outputs": [],
   "source": []
  }
 ],
 "metadata": {
  "kernelspec": {
   "display_name": "Python 3",
   "language": "python",
   "name": "python3"
  },
  "language_info": {
   "codemirror_mode": {
    "name": "ipython",
    "version": 3
   },
   "file_extension": ".py",
   "mimetype": "text/x-python",
   "name": "python",
   "nbconvert_exporter": "python",
   "pygments_lexer": "ipython3",
   "version": "3.7.1"
  }
 },
 "nbformat": 4,
 "nbformat_minor": 2
}
